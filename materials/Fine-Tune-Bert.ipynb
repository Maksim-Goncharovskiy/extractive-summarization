{
 "cells": [
  {
   "cell_type": "markdown",
   "id": "f8245de6-96b6-46af-9072-84b7e8756d03",
   "metadata": {},
   "source": [
    "<center><h1 style=\"font-size: 40px\"> Дообученная модель ruBert для задачи экстрактной суммаризации текстов.</h1></center>"
   ]
  },
  {
   "cell_type": "markdown",
   "id": "28fb92d7-50a2-4c14-9424-9d68f5c85f85",
   "metadata": {},
   "source": [
    "# Содержание\n",
    "### 1. [Дообучение ruBert](#chapter1)\n",
    "#### 1.1. [Загрузка модели](#chapter1.1)\n",
    "#### 1.2. [Загрузка и предобработка датасета](#chapter1.2)\n",
    "#### 1.3. [Дообучение модели ruBert](#chapter1.3)\n",
    "#### 1.4. [Тестирование дообученной модели](#chapter1.4)\n",
    "\n",
    "### 2. [Суммаризация текста](#chapter2)\n",
    "#### 2.1. [Использование библиотеки summarizer](#chapter2.1)\n",
    "#### 2.2. [Подсчёт всех метрик](#chapter2.2)\n",
    "\n",
    "### 3. [Вывод](#chapter3)"
   ]
  },
  {
   "cell_type": "code",
   "execution_count": 1,
   "id": "ddd99e41-3dd6-4537-92bd-ed12e496077f",
   "metadata": {},
   "outputs": [],
   "source": [
    "import numpy as np\n",
    "import pandas as pd"
   ]
  },
  {
   "cell_type": "code",
   "execution_count": 2,
   "id": "4c01d458-1883-4774-8e72-e3740363d1fc",
   "metadata": {},
   "outputs": [],
   "source": [
    "import torch\n",
    "from torch import nn\n",
    "from torch.utils.data import DataLoader, Dataset\n",
    "device = \"cuda\" if torch.cuda.is_available() else \"cpu\""
   ]
  },
  {
   "cell_type": "code",
   "execution_count": 3,
   "id": "2a04593f-df18-4a05-882a-900cdecafa48",
   "metadata": {},
   "outputs": [],
   "source": [
    "from transformers import BertModel, BertForSequenceClassification, BertTokenizer, AutoConfig"
   ]
  },
  {
   "cell_type": "code",
   "execution_count": 4,
   "id": "04defed0-7a13-43ca-82a0-e0fe6f2133cc",
   "metadata": {},
   "outputs": [],
   "source": [
    "import warnings\n",
    "warnings.filterwarnings(\"ignore\")"
   ]
  },
  {
   "cell_type": "markdown",
   "id": "763f8b25-40e5-4a11-b926-44738d1950c1",
   "metadata": {},
   "source": [
    "<center id=\"chapter1\"><h1 style=\"font-size: 24px\"> 1. Дообучение ruBert </h1></center>"
   ]
  },
  {
   "cell_type": "markdown",
   "id": "4c396624-77ba-441e-9c80-2a3057ce0680",
   "metadata": {},
   "source": [
    "## 1.1. Загрузка модели <a id=\"chapter1.1\"></a>"
   ]
  },
  {
   "cell_type": "code",
   "execution_count": 5,
   "id": "901c3463-c380-4c0c-b02b-4544e8e5efb8",
   "metadata": {},
   "outputs": [
    {
     "name": "stderr",
     "output_type": "stream",
     "text": [
      "Some weights of BertForSequenceClassification were not initialized from the model checkpoint at DeepPavlov/rubert-base-cased and are newly initialized: ['classifier.bias', 'classifier.weight']\n",
      "You should probably TRAIN this model on a down-stream task to be able to use it for predictions and inference.\n"
     ]
    }
   ],
   "source": [
    "model_name = 'DeepPavlov/rubert-base-cased'\n",
    "\n",
    "tokenizer = BertTokenizer.from_pretrained(model_name)\n",
    "\n",
    "custom_model = BertForSequenceClassification.from_pretrained(model_name, num_labels=2, output_hidden_states=True).to(device)"
   ]
  },
  {
   "cell_type": "code",
   "execution_count": 6,
   "id": "dea6a069-ba85-428f-9e67-8689068b50e2",
   "metadata": {},
   "outputs": [
    {
     "data": {
      "text/plain": [
       "BertForSequenceClassification(\n",
       "  (bert): BertModel(\n",
       "    (embeddings): BertEmbeddings(\n",
       "      (word_embeddings): Embedding(119547, 768, padding_idx=0)\n",
       "      (position_embeddings): Embedding(512, 768)\n",
       "      (token_type_embeddings): Embedding(2, 768)\n",
       "      (LayerNorm): LayerNorm((768,), eps=1e-12, elementwise_affine=True)\n",
       "      (dropout): Dropout(p=0.1, inplace=False)\n",
       "    )\n",
       "    (encoder): BertEncoder(\n",
       "      (layer): ModuleList(\n",
       "        (0-11): 12 x BertLayer(\n",
       "          (attention): BertAttention(\n",
       "            (self): BertSdpaSelfAttention(\n",
       "              (query): Linear(in_features=768, out_features=768, bias=True)\n",
       "              (key): Linear(in_features=768, out_features=768, bias=True)\n",
       "              (value): Linear(in_features=768, out_features=768, bias=True)\n",
       "              (dropout): Dropout(p=0.1, inplace=False)\n",
       "            )\n",
       "            (output): BertSelfOutput(\n",
       "              (dense): Linear(in_features=768, out_features=768, bias=True)\n",
       "              (LayerNorm): LayerNorm((768,), eps=1e-12, elementwise_affine=True)\n",
       "              (dropout): Dropout(p=0.1, inplace=False)\n",
       "            )\n",
       "          )\n",
       "          (intermediate): BertIntermediate(\n",
       "            (dense): Linear(in_features=768, out_features=3072, bias=True)\n",
       "            (intermediate_act_fn): GELUActivation()\n",
       "          )\n",
       "          (output): BertOutput(\n",
       "            (dense): Linear(in_features=3072, out_features=768, bias=True)\n",
       "            (LayerNorm): LayerNorm((768,), eps=1e-12, elementwise_affine=True)\n",
       "            (dropout): Dropout(p=0.1, inplace=False)\n",
       "          )\n",
       "        )\n",
       "      )\n",
       "    )\n",
       "    (pooler): BertPooler(\n",
       "      (dense): Linear(in_features=768, out_features=768, bias=True)\n",
       "      (activation): Tanh()\n",
       "    )\n",
       "  )\n",
       "  (dropout): Dropout(p=0.1, inplace=False)\n",
       "  (classifier): Linear(in_features=768, out_features=2, bias=True)\n",
       ")"
      ]
     },
     "execution_count": 6,
     "metadata": {},
     "output_type": "execute_result"
    }
   ],
   "source": [
    "custom_model"
   ]
  },
  {
   "cell_type": "markdown",
   "id": "bd571c2e-3bb5-418d-aa38-5e5660953aa6",
   "metadata": {},
   "source": [
    "   "
   ]
  },
  {
   "cell_type": "markdown",
   "id": "bf5e36a4-8d75-4205-b1db-a23ac873d024",
   "metadata": {},
   "source": [
    "   "
   ]
  },
  {
   "cell_type": "markdown",
   "id": "46d9574a-dd17-40a5-9feb-40ad4afc8976",
   "metadata": {},
   "source": [
    "## 1.2. Получение и предобработка данных <a id=\"chapter1.2\"></a>"
   ]
  },
  {
   "cell_type": "code",
   "execution_count": 7,
   "id": "95bf2991-039f-403e-9f24-0db091b5fe95",
   "metadata": {},
   "outputs": [
    {
     "data": {
      "text/html": [
       "<div>\n",
       "<style scoped>\n",
       "    .dataframe tbody tr th:only-of-type {\n",
       "        vertical-align: middle;\n",
       "    }\n",
       "\n",
       "    .dataframe tbody tr th {\n",
       "        vertical-align: top;\n",
       "    }\n",
       "\n",
       "    .dataframe thead th {\n",
       "        text-align: right;\n",
       "    }\n",
       "</style>\n",
       "<table border=\"1\" class=\"dataframe\">\n",
       "  <thead>\n",
       "    <tr style=\"text-align: right;\">\n",
       "      <th></th>\n",
       "      <th>sentences</th>\n",
       "      <th>labels</th>\n",
       "    </tr>\n",
       "  </thead>\n",
       "  <tbody>\n",
       "    <tr>\n",
       "      <th>0</th>\n",
       "      <td>[Современных людей обвиняют в том, что они уби...</td>\n",
       "      <td>[0, 1, 0, 0, 0, 0, 0, 0, 0, 0, 0, 0, 0, 0, 0, ...</td>\n",
       "    </tr>\n",
       "    <tr>\n",
       "      <th>1</th>\n",
       "      <td>[Когда Клэр Хайнс узнала, что беременна, она о...</td>\n",
       "      <td>[0, 0, 0, 0, 1, 1, 1, 0, 0, 0, 0, 0, 0, 0, 0, ...</td>\n",
       "    </tr>\n",
       "    <tr>\n",
       "      <th>2</th>\n",
       "      <td>[Знаменитый шеф-повар Пит Эванс потерял еще од...</td>\n",
       "      <td>[0, 0, 0, 0, 1, 0, 0, 0, 0, 0, 0, 0, 1, 0, 1, ...</td>\n",
       "    </tr>\n",
       "    <tr>\n",
       "      <th>3</th>\n",
       "      <td>[Ученые полагают, что жизнь на Земле начала ра...</td>\n",
       "      <td>[0, 0, 0, 0, 0, 0, 0, 0, 0, 0, 0, 0, 0, 0, 0, ...</td>\n",
       "    </tr>\n",
       "    <tr>\n",
       "      <th>4</th>\n",
       "      <td>[Паундленд был вынужден убрать со своих полок ...</td>\n",
       "      <td>[0, 1, 0, 0, 0, 0, 0, 0, 0, 0]</td>\n",
       "    </tr>\n",
       "    <tr>\n",
       "      <th>...</th>\n",
       "      <td>...</td>\n",
       "      <td>...</td>\n",
       "    </tr>\n",
       "    <tr>\n",
       "      <th>10995</th>\n",
       "      <td>[Тренер сборной Англии Рой Ходжсон опасается, ...</td>\n",
       "      <td>[1, 1, 0, 0, 0, 0, 0, 0, 0, 0, 0, 0, 0, 0, 1, ...</td>\n",
       "    </tr>\n",
       "    <tr>\n",
       "      <th>10996</th>\n",
       "      <td>[Лучшие британцы встретятся лицом к лицу в суб...</td>\n",
       "      <td>[1, 1, 0, 0, 1, 0, 0, 0, 0, 0, 0, 0, 0, 0, 0, ...</td>\n",
       "    </tr>\n",
       "    <tr>\n",
       "      <th>10997</th>\n",
       "      <td>[Шведская футбольная команда рассказала, как о...</td>\n",
       "      <td>[0, 1, 0, 0, 0, 0, 0, 0, 0, 0, 0, 0, 0, 0, 0, ...</td>\n",
       "    </tr>\n",
       "    <tr>\n",
       "      <th>10998</th>\n",
       "      <td>[Лес Фердинанд признал, что перед КПР стоит не...</td>\n",
       "      <td>[0, 1, 0, 1, 0, 0, 0, 0, 0, 1, 0]</td>\n",
       "    </tr>\n",
       "    <tr>\n",
       "      <th>10999</th>\n",
       "      <td>[Поразмыслив, было бы неправильно охарактеризо...</td>\n",
       "      <td>[0, 0, 0, 0, 0, 0, 0, 0, 0, 0, 0, 0, 0, 0, 0, ...</td>\n",
       "    </tr>\n",
       "  </tbody>\n",
       "</table>\n",
       "<p>11000 rows × 2 columns</p>\n",
       "</div>"
      ],
      "text/plain": [
       "                                               sentences  \\\n",
       "0      [Современных людей обвиняют в том, что они уби...   \n",
       "1      [Когда Клэр Хайнс узнала, что беременна, она о...   \n",
       "2      [Знаменитый шеф-повар Пит Эванс потерял еще од...   \n",
       "3      [Ученые полагают, что жизнь на Земле начала ра...   \n",
       "4      [Паундленд был вынужден убрать со своих полок ...   \n",
       "...                                                  ...   \n",
       "10995  [Тренер сборной Англии Рой Ходжсон опасается, ...   \n",
       "10996  [Лучшие британцы встретятся лицом к лицу в суб...   \n",
       "10997  [Шведская футбольная команда рассказала, как о...   \n",
       "10998  [Лес Фердинанд признал, что перед КПР стоит не...   \n",
       "10999  [Поразмыслив, было бы неправильно охарактеризо...   \n",
       "\n",
       "                                                  labels  \n",
       "0      [0, 1, 0, 0, 0, 0, 0, 0, 0, 0, 0, 0, 0, 0, 0, ...  \n",
       "1      [0, 0, 0, 0, 1, 1, 1, 0, 0, 0, 0, 0, 0, 0, 0, ...  \n",
       "2      [0, 0, 0, 0, 1, 0, 0, 0, 0, 0, 0, 0, 1, 0, 1, ...  \n",
       "3      [0, 0, 0, 0, 0, 0, 0, 0, 0, 0, 0, 0, 0, 0, 0, ...  \n",
       "4                         [0, 1, 0, 0, 0, 0, 0, 0, 0, 0]  \n",
       "...                                                  ...  \n",
       "10995  [1, 1, 0, 0, 0, 0, 0, 0, 0, 0, 0, 0, 0, 0, 1, ...  \n",
       "10996  [1, 1, 0, 0, 1, 0, 0, 0, 0, 0, 0, 0, 0, 0, 0, ...  \n",
       "10997  [0, 1, 0, 0, 0, 0, 0, 0, 0, 0, 0, 0, 0, 0, 0, ...  \n",
       "10998                  [0, 1, 0, 1, 0, 0, 0, 0, 0, 1, 0]  \n",
       "10999  [0, 0, 0, 0, 0, 0, 0, 0, 0, 0, 0, 0, 0, 0, 0, ...  \n",
       "\n",
       "[11000 rows x 2 columns]"
      ]
     },
     "execution_count": 7,
     "metadata": {},
     "output_type": "execute_result"
    }
   ],
   "source": [
    "# Исходный датасет для задачи экстрактной суммаризации\n",
    "dataset = pd.read_pickle(\"../Data/ru_train.pkl\")\n",
    "dataset"
   ]
  },
  {
   "cell_type": "code",
   "execution_count": 8,
   "id": "00bb636e-363b-4184-8cb2-6f520422a341",
   "metadata": {},
   "outputs": [],
   "source": [
    "def make_classification_df(dataset):\n",
    "    \"\"\"\n",
    "    Преобразует исходный датасет в формат, подходящий для решения задачи бинарной классификации.\n",
    "    \"\"\"\n",
    "    train_df = pd.DataFrame()\n",
    "    \n",
    "    sentences = []\n",
    "    labels = []\n",
    "\n",
    "    for i in dataset.index:\n",
    "        sentences += list(dataset.loc[i][\"sentences\"])\n",
    "        labels += list(dataset.loc[i][\"labels\"])\n",
    "\n",
    "    train_df[\"sentence\"] = sentences\n",
    "    train_df[\"label\"] = labels\n",
    "\n",
    "    return train_df"
   ]
  },
  {
   "cell_type": "code",
   "execution_count": 9,
   "id": "66689674-0e8b-474b-9945-8bf7300f8ed6",
   "metadata": {},
   "outputs": [
    {
     "data": {
      "text/html": [
       "<div>\n",
       "<style scoped>\n",
       "    .dataframe tbody tr th:only-of-type {\n",
       "        vertical-align: middle;\n",
       "    }\n",
       "\n",
       "    .dataframe tbody tr th {\n",
       "        vertical-align: top;\n",
       "    }\n",
       "\n",
       "    .dataframe thead th {\n",
       "        text-align: right;\n",
       "    }\n",
       "</style>\n",
       "<table border=\"1\" class=\"dataframe\">\n",
       "  <thead>\n",
       "    <tr style=\"text-align: right;\">\n",
       "      <th></th>\n",
       "      <th>sentence</th>\n",
       "      <th>label</th>\n",
       "    </tr>\n",
       "  </thead>\n",
       "  <tbody>\n",
       "    <tr>\n",
       "      <th>0</th>\n",
       "      <td>Современных людей обвиняют в том, что они убил...</td>\n",
       "      <td>0</td>\n",
       "    </tr>\n",
       "    <tr>\n",
       "      <th>1</th>\n",
       "      <td>Но новые исследования показывают, что на самом...</td>\n",
       "      <td>1</td>\n",
       "    </tr>\n",
       "    <tr>\n",
       "      <th>2</th>\n",
       "      <td>Ученые, изучающие новейшие генетические, ископ...</td>\n",
       "      <td>0</td>\n",
       "    </tr>\n",
       "    <tr>\n",
       "      <th>3</th>\n",
       "      <td>Прокрутите вниз, чтобы увидеть видео.</td>\n",
       "      <td>0</td>\n",
       "    </tr>\n",
       "    <tr>\n",
       "      <th>4</th>\n",
       "      <td>Неандертальцы, как и реконструкция, представле...</td>\n",
       "      <td>0</td>\n",
       "    </tr>\n",
       "    <tr>\n",
       "      <th>...</th>\n",
       "      <td>...</td>\n",
       "      <td>...</td>\n",
       "    </tr>\n",
       "    <tr>\n",
       "      <th>359318</th>\n",
       "      <td>«Оглядываясь назад, можно сказать, что все отч...</td>\n",
       "      <td>0</td>\n",
       "    </tr>\n",
       "    <tr>\n",
       "      <th>359319</th>\n",
       "      <td>«Англия застала нас врасплох, шла впереди, хор...</td>\n",
       "      <td>0</td>\n",
       "    </tr>\n",
       "    <tr>\n",
       "      <th>359320</th>\n",
       "      <td>Нам было трудно принять это решение, но теперь...</td>\n",
       "      <td>0</td>\n",
       "    </tr>\n",
       "    <tr>\n",
       "      <th>359321</th>\n",
       "      <td>«Пришел даже Мэтт Ричи, он такой большой талант.</td>\n",
       "      <td>0</td>\n",
       "    </tr>\n",
       "    <tr>\n",
       "      <th>359322</th>\n",
       "      <td>Он именно тот игрок, который что-то добавит ко...</td>\n",
       "      <td>0</td>\n",
       "    </tr>\n",
       "  </tbody>\n",
       "</table>\n",
       "<p>359323 rows × 2 columns</p>\n",
       "</div>"
      ],
      "text/plain": [
       "                                                 sentence  label\n",
       "0       Современных людей обвиняют в том, что они убил...      0\n",
       "1       Но новые исследования показывают, что на самом...      1\n",
       "2       Ученые, изучающие новейшие генетические, ископ...      0\n",
       "3                   Прокрутите вниз, чтобы увидеть видео.      0\n",
       "4       Неандертальцы, как и реконструкция, представле...      0\n",
       "...                                                   ...    ...\n",
       "359318  «Оглядываясь назад, можно сказать, что все отч...      0\n",
       "359319  «Англия застала нас врасплох, шла впереди, хор...      0\n",
       "359320  Нам было трудно принять это решение, но теперь...      0\n",
       "359321   «Пришел даже Мэтт Ричи, он такой большой талант.      0\n",
       "359322  Он именно тот игрок, который что-то добавит ко...      0\n",
       "\n",
       "[359323 rows x 2 columns]"
      ]
     },
     "execution_count": 9,
     "metadata": {},
     "output_type": "execute_result"
    }
   ],
   "source": [
    "# Создадим датасет бинарной классификации на части текстов для начала\n",
    "df = make_classification_df(dataset)\n",
    "df"
   ]
  },
  {
   "cell_type": "code",
   "execution_count": 10,
   "id": "158dacaf-9ed6-4b5a-a211-8c94e4990c55",
   "metadata": {},
   "outputs": [
    {
     "data": {
      "text/html": [
       "<div>\n",
       "<style scoped>\n",
       "    .dataframe tbody tr th:only-of-type {\n",
       "        vertical-align: middle;\n",
       "    }\n",
       "\n",
       "    .dataframe tbody tr th {\n",
       "        vertical-align: top;\n",
       "    }\n",
       "\n",
       "    .dataframe thead th {\n",
       "        text-align: right;\n",
       "    }\n",
       "</style>\n",
       "<table border=\"1\" class=\"dataframe\">\n",
       "  <thead>\n",
       "    <tr style=\"text-align: right;\">\n",
       "      <th></th>\n",
       "      <th>sentence</th>\n",
       "      <th>label</th>\n",
       "    </tr>\n",
       "  </thead>\n",
       "  <tbody>\n",
       "    <tr>\n",
       "      <th>0</th>\n",
       "      <td>Суд услышал, что генеральный секретарь Dignita...</td>\n",
       "      <td>1</td>\n",
       "    </tr>\n",
       "    <tr>\n",
       "      <th>1</th>\n",
       "      <td>Кампала, Уганда (CNN) Боевики на мотоцикле зас...</td>\n",
       "      <td>1</td>\n",
       "    </tr>\n",
       "    <tr>\n",
       "      <th>2</th>\n",
       "      <td>Лишь четверть говорят, что важно знать о внутр...</td>\n",
       "      <td>1</td>\n",
       "    </tr>\n",
       "    <tr>\n",
       "      <th>3</th>\n",
       "      <td>Пол Скоулз (в центре) считает, что «Барселона»...</td>\n",
       "      <td>1</td>\n",
       "    </tr>\n",
       "    <tr>\n",
       "      <th>4</th>\n",
       "      <td>«Эта личная катастрофа была полностью вызвана ...</td>\n",
       "      <td>0</td>\n",
       "    </tr>\n",
       "    <tr>\n",
       "      <th>...</th>\n",
       "      <td>...</td>\n",
       "      <td>...</td>\n",
       "    </tr>\n",
       "    <tr>\n",
       "      <th>57895</th>\n",
       "      <td>Женщины платят меньше: на прежнем месте женщин...</td>\n",
       "      <td>1</td>\n",
       "    </tr>\n",
       "    <tr>\n",
       "      <th>57896</th>\n",
       "      <td>«Охра, возможно, является единственным очевидн...</td>\n",
       "      <td>0</td>\n",
       "    </tr>\n",
       "    <tr>\n",
       "      <th>57897</th>\n",
       "      <td>По ее словам, он также попросил ее поцеловать.</td>\n",
       "      <td>0</td>\n",
       "    </tr>\n",
       "    <tr>\n",
       "      <th>57898</th>\n",
       "      <td>Сегодня мир стал лучше, и одна маленькая девоч...</td>\n",
       "      <td>0</td>\n",
       "    </tr>\n",
       "    <tr>\n",
       "      <th>57899</th>\n",
       "      <td>До марта рост числа рабочих мест был стабильны...</td>\n",
       "      <td>0</td>\n",
       "    </tr>\n",
       "  </tbody>\n",
       "</table>\n",
       "<p>57900 rows × 2 columns</p>\n",
       "</div>"
      ],
      "text/plain": [
       "                                                sentence label\n",
       "0      Суд услышал, что генеральный секретарь Dignita...     1\n",
       "1      Кампала, Уганда (CNN) Боевики на мотоцикле зас...     1\n",
       "2      Лишь четверть говорят, что важно знать о внутр...     1\n",
       "3      Пол Скоулз (в центре) считает, что «Барселона»...     1\n",
       "4      «Эта личная катастрофа была полностью вызвана ...     0\n",
       "...                                                  ...   ...\n",
       "57895  Женщины платят меньше: на прежнем месте женщин...     1\n",
       "57896  «Охра, возможно, является единственным очевидн...     0\n",
       "57897     По ее словам, он также попросил ее поцеловать.     0\n",
       "57898  Сегодня мир стал лучше, и одна маленькая девоч...     0\n",
       "57899  До марта рост числа рабочих мест был стабильны...     0\n",
       "\n",
       "[57900 rows x 2 columns]"
      ]
     },
     "metadata": {},
     "output_type": "display_data"
    }
   ],
   "source": [
    "# В датасете имеется дисбаланс классов. Возьмём одинаковое количество нулевого и первого класса.\n",
    "df_1 = df[df['label']==1]\n",
    "df_0 = df[df['label']==0].head(len(df_1))\n",
    "\n",
    "df_balanced = pd.DataFrame(pd.concat([df_0, df_1]).sample(frac=1).values, columns=['sentence', 'label'])\n",
    "display(df_balanced)"
   ]
  },
  {
   "cell_type": "code",
   "execution_count": 11,
   "id": "e7d361dd-1e92-4dff-8f94-a6331c720673",
   "metadata": {},
   "outputs": [],
   "source": [
    "# Пусть обучающая часть содержит 80% предложений, а в валидационной и тестовой оставим по 10%\n",
    "df_train = df_balanced.loc[0:int(len(df_balanced)*0.8)]\n",
    "df_val = df_balanced.loc[int(len(df_balanced)*0.8)+1:int(len(df_balanced)*0.9)]\n",
    "df_test = df_balanced.loc[int(len(df_balanced)*0.9):]"
   ]
  },
  {
   "cell_type": "code",
   "execution_count": 12,
   "id": "2c126112-3b75-419e-85d0-4189461a273a",
   "metadata": {},
   "outputs": [
    {
     "data": {
      "text/html": [
       "<div>\n",
       "<style scoped>\n",
       "    .dataframe tbody tr th:only-of-type {\n",
       "        vertical-align: middle;\n",
       "    }\n",
       "\n",
       "    .dataframe tbody tr th {\n",
       "        vertical-align: top;\n",
       "    }\n",
       "\n",
       "    .dataframe thead th {\n",
       "        text-align: right;\n",
       "    }\n",
       "</style>\n",
       "<table border=\"1\" class=\"dataframe\">\n",
       "  <thead>\n",
       "    <tr style=\"text-align: right;\">\n",
       "      <th></th>\n",
       "      <th>sentence</th>\n",
       "      <th>label</th>\n",
       "    </tr>\n",
       "  </thead>\n",
       "  <tbody>\n",
       "    <tr>\n",
       "      <th>0</th>\n",
       "      <td>Суд услышал, что генеральный секретарь Dignita...</td>\n",
       "      <td>1</td>\n",
       "    </tr>\n",
       "    <tr>\n",
       "      <th>1</th>\n",
       "      <td>Кампала, Уганда (CNN) Боевики на мотоцикле зас...</td>\n",
       "      <td>1</td>\n",
       "    </tr>\n",
       "    <tr>\n",
       "      <th>2</th>\n",
       "      <td>Лишь четверть говорят, что важно знать о внутр...</td>\n",
       "      <td>1</td>\n",
       "    </tr>\n",
       "    <tr>\n",
       "      <th>3</th>\n",
       "      <td>Пол Скоулз (в центре) считает, что «Барселона»...</td>\n",
       "      <td>1</td>\n",
       "    </tr>\n",
       "    <tr>\n",
       "      <th>4</th>\n",
       "      <td>«Эта личная катастрофа была полностью вызвана ...</td>\n",
       "      <td>0</td>\n",
       "    </tr>\n",
       "    <tr>\n",
       "      <th>...</th>\n",
       "      <td>...</td>\n",
       "      <td>...</td>\n",
       "    </tr>\n",
       "    <tr>\n",
       "      <th>46316</th>\n",
       "      <td>Ранее он заявил суду, что «никогда не был скло...</td>\n",
       "      <td>0</td>\n",
       "    </tr>\n",
       "    <tr>\n",
       "      <th>46317</th>\n",
       "      <td>Главный тренер «Саутгемптона» Рональд Куман от...</td>\n",
       "      <td>1</td>\n",
       "    </tr>\n",
       "    <tr>\n",
       "      <th>46318</th>\n",
       "      <td>(CNN) Попытки некоторых членов Республиканской...</td>\n",
       "      <td>1</td>\n",
       "    </tr>\n",
       "    <tr>\n",
       "      <th>46319</th>\n",
       "      <td>О'Брайен, рост которого почти шесть футов, при...</td>\n",
       "      <td>1</td>\n",
       "    </tr>\n",
       "    <tr>\n",
       "      <th>46320</th>\n",
       "      <td>Еще больше проблем с законом: двое учеников по...</td>\n",
       "      <td>1</td>\n",
       "    </tr>\n",
       "  </tbody>\n",
       "</table>\n",
       "<p>46321 rows × 2 columns</p>\n",
       "</div>"
      ],
      "text/plain": [
       "                                                sentence label\n",
       "0      Суд услышал, что генеральный секретарь Dignita...     1\n",
       "1      Кампала, Уганда (CNN) Боевики на мотоцикле зас...     1\n",
       "2      Лишь четверть говорят, что важно знать о внутр...     1\n",
       "3      Пол Скоулз (в центре) считает, что «Барселона»...     1\n",
       "4      «Эта личная катастрофа была полностью вызвана ...     0\n",
       "...                                                  ...   ...\n",
       "46316  Ранее он заявил суду, что «никогда не был скло...     0\n",
       "46317  Главный тренер «Саутгемптона» Рональд Куман от...     1\n",
       "46318  (CNN) Попытки некоторых членов Республиканской...     1\n",
       "46319  О'Брайен, рост которого почти шесть футов, при...     1\n",
       "46320  Еще больше проблем с законом: двое учеников по...     1\n",
       "\n",
       "[46321 rows x 2 columns]"
      ]
     },
     "metadata": {},
     "output_type": "display_data"
    },
    {
     "data": {
      "text/html": [
       "<div>\n",
       "<style scoped>\n",
       "    .dataframe tbody tr th:only-of-type {\n",
       "        vertical-align: middle;\n",
       "    }\n",
       "\n",
       "    .dataframe tbody tr th {\n",
       "        vertical-align: top;\n",
       "    }\n",
       "\n",
       "    .dataframe thead th {\n",
       "        text-align: right;\n",
       "    }\n",
       "</style>\n",
       "<table border=\"1\" class=\"dataframe\">\n",
       "  <thead>\n",
       "    <tr style=\"text-align: right;\">\n",
       "      <th></th>\n",
       "      <th>sentence</th>\n",
       "      <th>label</th>\n",
       "    </tr>\n",
       "  </thead>\n",
       "  <tbody>\n",
       "    <tr>\n",
       "      <th>46321</th>\n",
       "      <td>Но новая книга «Художники и их кошки» возвраща...</td>\n",
       "      <td>1</td>\n",
       "    </tr>\n",
       "    <tr>\n",
       "      <th>46322</th>\n",
       "      <td>Секстинг «не рекомендуется политикам», говорит...</td>\n",
       "      <td>1</td>\n",
       "    </tr>\n",
       "    <tr>\n",
       "      <th>46323</th>\n",
       "      <td>Окаменелый скелет (вверху) был найден в скале ...</td>\n",
       "      <td>1</td>\n",
       "    </tr>\n",
       "    <tr>\n",
       "      <th>46324</th>\n",
       "      <td>Извинения: Детектив Патрик Черри появляется се...</td>\n",
       "      <td>0</td>\n",
       "    </tr>\n",
       "    <tr>\n",
       "      <th>46325</th>\n",
       "      <td>Шон Мэлони проделал 5000-мильную поездку из Чи...</td>\n",
       "      <td>1</td>\n",
       "    </tr>\n",
       "    <tr>\n",
       "      <th>...</th>\n",
       "      <td>...</td>\n",
       "      <td>...</td>\n",
       "    </tr>\n",
       "    <tr>\n",
       "      <th>52106</th>\n",
       "      <td>Любительница животных: Аманда Холден будет вес...</td>\n",
       "      <td>1</td>\n",
       "    </tr>\n",
       "    <tr>\n",
       "      <th>52107</th>\n",
       "      <td>Когда она открыла дверь такси, в комнату вскоч...</td>\n",
       "      <td>1</td>\n",
       "    </tr>\n",
       "    <tr>\n",
       "      <th>52108</th>\n",
       "      <td>Сообщается, что за 21-летнего аргентинца запла...</td>\n",
       "      <td>1</td>\n",
       "    </tr>\n",
       "    <tr>\n",
       "      <th>52109</th>\n",
       "      <td>Бывший полузащитник «Манчестер Юнайтед» был вм...</td>\n",
       "      <td>1</td>\n",
       "    </tr>\n",
       "    <tr>\n",
       "      <th>52110</th>\n",
       "      <td>Фонд поддержки премьер-министра уже покрывает ...</td>\n",
       "      <td>1</td>\n",
       "    </tr>\n",
       "  </tbody>\n",
       "</table>\n",
       "<p>5790 rows × 2 columns</p>\n",
       "</div>"
      ],
      "text/plain": [
       "                                                sentence label\n",
       "46321  Но новая книга «Художники и их кошки» возвраща...     1\n",
       "46322  Секстинг «не рекомендуется политикам», говорит...     1\n",
       "46323  Окаменелый скелет (вверху) был найден в скале ...     1\n",
       "46324  Извинения: Детектив Патрик Черри появляется се...     0\n",
       "46325  Шон Мэлони проделал 5000-мильную поездку из Чи...     1\n",
       "...                                                  ...   ...\n",
       "52106  Любительница животных: Аманда Холден будет вес...     1\n",
       "52107  Когда она открыла дверь такси, в комнату вскоч...     1\n",
       "52108  Сообщается, что за 21-летнего аргентинца запла...     1\n",
       "52109  Бывший полузащитник «Манчестер Юнайтед» был вм...     1\n",
       "52110  Фонд поддержки премьер-министра уже покрывает ...     1\n",
       "\n",
       "[5790 rows x 2 columns]"
      ]
     },
     "metadata": {},
     "output_type": "display_data"
    },
    {
     "data": {
      "text/html": [
       "<div>\n",
       "<style scoped>\n",
       "    .dataframe tbody tr th:only-of-type {\n",
       "        vertical-align: middle;\n",
       "    }\n",
       "\n",
       "    .dataframe tbody tr th {\n",
       "        vertical-align: top;\n",
       "    }\n",
       "\n",
       "    .dataframe thead th {\n",
       "        text-align: right;\n",
       "    }\n",
       "</style>\n",
       "<table border=\"1\" class=\"dataframe\">\n",
       "  <thead>\n",
       "    <tr style=\"text-align: right;\">\n",
       "      <th></th>\n",
       "      <th>sentence</th>\n",
       "      <th>label</th>\n",
       "    </tr>\n",
       "  </thead>\n",
       "  <tbody>\n",
       "    <tr>\n",
       "      <th>52110</th>\n",
       "      <td>Фонд поддержки премьер-министра уже покрывает ...</td>\n",
       "      <td>1</td>\n",
       "    </tr>\n",
       "    <tr>\n",
       "      <th>52111</th>\n",
       "      <td>Шотландия вылетела из игры со счетом 130 всего...</td>\n",
       "      <td>1</td>\n",
       "    </tr>\n",
       "    <tr>\n",
       "      <th>52112</th>\n",
       "      <td>«Я знаю, что вы отдали свои кровно заработанны...</td>\n",
       "      <td>0</td>\n",
       "    </tr>\n",
       "    <tr>\n",
       "      <th>52113</th>\n",
       "      <td>Температура воды, уровень прилива, мотивация р...</td>\n",
       "      <td>0</td>\n",
       "    </tr>\n",
       "    <tr>\n",
       "      <th>52114</th>\n",
       "      <td>Визажист Мария Мэлоун-Гербаа (слева) только чт...</td>\n",
       "      <td>1</td>\n",
       "    </tr>\n",
       "    <tr>\n",
       "      <th>...</th>\n",
       "      <td>...</td>\n",
       "      <td>...</td>\n",
       "    </tr>\n",
       "    <tr>\n",
       "      <th>57895</th>\n",
       "      <td>Женщины платят меньше: на прежнем месте женщин...</td>\n",
       "      <td>1</td>\n",
       "    </tr>\n",
       "    <tr>\n",
       "      <th>57896</th>\n",
       "      <td>«Охра, возможно, является единственным очевидн...</td>\n",
       "      <td>0</td>\n",
       "    </tr>\n",
       "    <tr>\n",
       "      <th>57897</th>\n",
       "      <td>По ее словам, он также попросил ее поцеловать.</td>\n",
       "      <td>0</td>\n",
       "    </tr>\n",
       "    <tr>\n",
       "      <th>57898</th>\n",
       "      <td>Сегодня мир стал лучше, и одна маленькая девоч...</td>\n",
       "      <td>0</td>\n",
       "    </tr>\n",
       "    <tr>\n",
       "      <th>57899</th>\n",
       "      <td>До марта рост числа рабочих мест был стабильны...</td>\n",
       "      <td>0</td>\n",
       "    </tr>\n",
       "  </tbody>\n",
       "</table>\n",
       "<p>5790 rows × 2 columns</p>\n",
       "</div>"
      ],
      "text/plain": [
       "                                                sentence label\n",
       "52110  Фонд поддержки премьер-министра уже покрывает ...     1\n",
       "52111  Шотландия вылетела из игры со счетом 130 всего...     1\n",
       "52112  «Я знаю, что вы отдали свои кровно заработанны...     0\n",
       "52113  Температура воды, уровень прилива, мотивация р...     0\n",
       "52114  Визажист Мария Мэлоун-Гербаа (слева) только чт...     1\n",
       "...                                                  ...   ...\n",
       "57895  Женщины платят меньше: на прежнем месте женщин...     1\n",
       "57896  «Охра, возможно, является единственным очевидн...     0\n",
       "57897     По ее словам, он также попросил ее поцеловать.     0\n",
       "57898  Сегодня мир стал лучше, и одна маленькая девоч...     0\n",
       "57899  До марта рост числа рабочих мест был стабильны...     0\n",
       "\n",
       "[5790 rows x 2 columns]"
      ]
     },
     "metadata": {},
     "output_type": "display_data"
    }
   ],
   "source": [
    "display(df_train)\n",
    "display(df_val)\n",
    "display(df_test)"
   ]
  },
  {
   "cell_type": "markdown",
   "id": "d22378ba-2ca8-4de7-9b26-ffee60e9051a",
   "metadata": {},
   "source": [
    "\n",
    "  "
   ]
  },
  {
   "cell_type": "markdown",
   "id": "ffcdd482-5def-4f61-b118-4847707d2bf5",
   "metadata": {},
   "source": [
    "\n",
    "\n",
    "\n",
    "\n",
    "\n"
   ]
  },
  {
   "cell_type": "code",
   "execution_count": 13,
   "id": "1981dc6d-58c9-4adb-8a26-ad164d218b85",
   "metadata": {},
   "outputs": [],
   "source": [
    "class TextDataset(Dataset):\n",
    "    \"\"\"Класс для преобразования датасета к нужному формату\"\"\"\n",
    "    def __init__(self, dataframe, tokenizer, max_len=64):\n",
    "        self.tokenizer = tokenizer\n",
    "        self.sentences = dataframe['sentence'].tolist()\n",
    "        self.labels = dataframe['label'].tolist()\n",
    "        self.max_len = max_len\n",
    "\n",
    "    def __len__(self):\n",
    "        return len(self.sentences)\n",
    "\n",
    "    def __getitem__(self, idx):\n",
    "        text = self.sentences[idx]\n",
    "        label = self.labels[idx]\n",
    "        # токенизируем\n",
    "        inputs = self.tokenizer.encode_plus(\n",
    "            text=text, # наши данные\n",
    "            text_pair=None, # это для задачи вопросно-ответной системы, т.е. не для нас\n",
    "            add_special_tokens=True, # добавление спец-токенов, отвечающих за \"начало предложения\" [CLS] и \"конец предложения\" [SEP]\n",
    "            max_length=self.max_len, # максимальная длина последовательности\n",
    "            padding='max_length', # если в предложении меньше 64 токенов, то остальные заменяем на пустые\n",
    "            truncation=True, # если в предложениее 64+ токенов, то мы просто обрезаем их\n",
    "            return_token_type_ids=False, # это для задачи вопросно-ответной системы, т.е. не для нас\n",
    "            return_attention_mask=True, # это говорит нашей модели, какие токены важны, а какие просто как padding или [CLS] и т.д.\n",
    "            return_tensors='pt' # формат выдачи токенизатора, в нашем случае - torch тензор\n",
    "        )\n",
    "\n",
    "        # то что мы запихнем в модель\n",
    "        return {\n",
    "            'input_ids': inputs['input_ids'].flatten(), # это наши цифровые токены (т.е. для токена 'привет' будет какое-нибудь '105')\n",
    "            'attention_mask': inputs['attention_mask'].flatten(), # это наши маски\n",
    "            'labels': torch.tensor(label, dtype=torch.long)\n",
    "        }"
   ]
  },
  {
   "cell_type": "markdown",
   "id": "6bb135de-d37f-4b50-8acb-c1bededc72b4",
   "metadata": {},
   "source": [
    "\n",
    "\n",
    "\n"
   ]
  },
  {
   "cell_type": "code",
   "execution_count": 16,
   "id": "09fc0c7d-5e6d-42fd-b84e-c26b0bce0785",
   "metadata": {},
   "outputs": [],
   "source": [
    "train_dataset = TextDataset(df_train, tokenizer)\n",
    "val_dataset = TextDataset(df_val, tokenizer)\n",
    "test_dataset = TextDataset(df_test, tokenizer)\n",
    "\n",
    "batch_size = 32\n",
    "\n",
    "train_data_loader = DataLoader(train_dataset, batch_size=batch_size, shuffle=True)\n",
    "val_data_loader = DataLoader(val_dataset, batch_size=batch_size, shuffle=False)\n",
    "test_data_loader = DataLoader(test_dataset, batch_size=batch_size, shuffle=False)"
   ]
  },
  {
   "cell_type": "markdown",
   "id": "ce98243b-d406-4a41-b8a8-5c356aead410",
   "metadata": {},
   "source": [
    "\n",
    "\n",
    "\n",
    "   "
   ]
  },
  {
   "cell_type": "markdown",
   "id": "18e20741-2e54-4627-9460-4202001fcc15",
   "metadata": {},
   "source": [
    "   "
   ]
  },
  {
   "cell_type": "markdown",
   "id": "2ef66228-c88a-4856-92bb-0b39180e681b",
   "metadata": {},
   "source": [
    "## 1.3. Дообучение ruBert <a id=\"chapter1.3\"></a>"
   ]
  },
  {
   "cell_type": "code",
   "execution_count": 17,
   "id": "1744fdeb-e787-4c85-86b1-8ddad14d6fed",
   "metadata": {},
   "outputs": [],
   "source": [
    "import tqdm\n",
    "from tqdm.auto import tqdm\n",
    "\n",
    "def train_val(model, train_data_loader, val_data_loader, loss_fn, optimizer, device, num_epochs):\n",
    "    for t in tqdm(range(num_epochs)):\n",
    "        train_epoch_loss = []\n",
    "        eval_epoch_loss = []\n",
    "        \n",
    "        print(\"Эпоха номер: \", t)\n",
    "\n",
    "        # Обучение модели на текущей эпохе\n",
    "        model.train()\n",
    "        for train_data in tqdm(train_data_loader):\n",
    "            input_ids = train_data['input_ids'].to(device) # токены\n",
    "            attention_mask = train_data['attention_mask'].to(device) # маски\n",
    "            labels = train_data['labels'].to(device) # класс\n",
    "\n",
    "            outputs = model(input_ids=input_ids, attention_mask=attention_mask) # результат модели\n",
    "            #_, preds = torch.max(outputs.logits, dim=1)\n",
    "            \n",
    "            loss = loss_fn(outputs.logits, labels) # считаем потерю\n",
    "            train_epoch_loss.append(loss.item())\n",
    "\n",
    "\n",
    "            # Выполним подсчёт новых градиентов\n",
    "            loss.backward()\n",
    "            # Выполним шаг градиентного спуска\n",
    "            optimizer.step()\n",
    "            # Обнулим сохраненные у оптимизатора значения градиентов\n",
    "            # перед следующим шагом обучения\n",
    "            optimizer.zero_grad()\n",
    "\n",
    "        # Оценка модели на валидационных данных после обучения на текущей эпохе\n",
    "        model.eval()\n",
    "        for val_data in tqdm(val_data_loader):\n",
    "            input_ids = val_data['input_ids'].to(device) # токены\n",
    "            attention_mask = val_data['attention_mask'].to(device) # маски\n",
    "            labels = val_data['labels'].to(device) # класс\n",
    "\n",
    "\n",
    "            with torch.no_grad():\n",
    "                outputs = model(input_ids=input_ids, attention_mask=attention_mask) # результат модели\n",
    "                #_, preds = torch.max(outputs.logits, dim=1)\n",
    "            \n",
    "                loss = loss_fn(outputs.logits, labels) # считаем потерю\n",
    "                eval_epoch_loss.append(loss.item())\n",
    "\n",
    "        # Выведем результаты прошедшей эпохи обучения\n",
    "        print(\"Train loss: \", np.mean(train_epoch_loss))\n",
    "        print(\"Eval loss: \", np.mean(eval_epoch_loss))\n",
    "        \n",
    "    return model"
   ]
  },
  {
   "cell_type": "code",
   "execution_count": 18,
   "id": "b6a89a7a-0fc0-41d2-8e7f-dec212d6ed96",
   "metadata": {},
   "outputs": [],
   "source": [
    "loss_fn = torch.nn.CrossEntropyLoss().to(device)\n",
    "\n",
    "from transformers import AdamW\n",
    "optimizer = AdamW(custom_model.parameters(), lr=1e-5)\n",
    "\n",
    "num_epochs = 3"
   ]
  },
  {
   "cell_type": "code",
   "execution_count": 19,
   "id": "eb03543d-5574-4c1e-b900-85322c0ec59e",
   "metadata": {},
   "outputs": [
    {
     "data": {
      "application/vnd.jupyter.widget-view+json": {
       "model_id": "6607407b8ec94ab2bab9dc6ed23ad8db",
       "version_major": 2,
       "version_minor": 0
      },
      "text/plain": [
       "  0%|          | 0/3 [00:00<?, ?it/s]"
      ]
     },
     "metadata": {},
     "output_type": "display_data"
    },
    {
     "name": "stdout",
     "output_type": "stream",
     "text": [
      "Эпоха номер:  0\n"
     ]
    },
    {
     "data": {
      "application/vnd.jupyter.widget-view+json": {
       "model_id": "a604ae4bdd284153babf0cc091b4c593",
       "version_major": 2,
       "version_minor": 0
      },
      "text/plain": [
       "  0%|          | 0/1448 [00:00<?, ?it/s]"
      ]
     },
     "metadata": {},
     "output_type": "display_data"
    },
    {
     "ename": "KeyboardInterrupt",
     "evalue": "",
     "output_type": "error",
     "traceback": [
      "\u001b[1;31m---------------------------------------------------------------------------\u001b[0m",
      "\u001b[1;31mKeyboardInterrupt\u001b[0m                         Traceback (most recent call last)",
      "Cell \u001b[1;32mIn[19], line 1\u001b[0m\n\u001b[1;32m----> 1\u001b[0m custom_model \u001b[38;5;241m=\u001b[39m train_val(custom_model, train_data_loader, val_data_loader, loss_fn, optimizer, device, num_epochs)\n",
      "Cell \u001b[1;32mIn[17], line 26\u001b[0m, in \u001b[0;36mtrain_val\u001b[1;34m(model, train_data_loader, val_data_loader, loss_fn, optimizer, device, num_epochs)\u001b[0m\n\u001b[0;32m     22\u001b[0m train_epoch_loss\u001b[38;5;241m.\u001b[39mappend(loss\u001b[38;5;241m.\u001b[39mitem())\n\u001b[0;32m     25\u001b[0m \u001b[38;5;66;03m# Выполним подсчёт новых градиентов\u001b[39;00m\n\u001b[1;32m---> 26\u001b[0m loss\u001b[38;5;241m.\u001b[39mbackward()\n\u001b[0;32m     27\u001b[0m \u001b[38;5;66;03m# Выполним шаг градиентного спуска\u001b[39;00m\n\u001b[0;32m     28\u001b[0m optimizer\u001b[38;5;241m.\u001b[39mstep()\n",
      "File \u001b[1;32mF:\\Downloads\\Anaconda\\Lib\\site-packages\\torch\\_tensor.py:525\u001b[0m, in \u001b[0;36mTensor.backward\u001b[1;34m(self, gradient, retain_graph, create_graph, inputs)\u001b[0m\n\u001b[0;32m    515\u001b[0m \u001b[38;5;28;01mif\u001b[39;00m has_torch_function_unary(\u001b[38;5;28mself\u001b[39m):\n\u001b[0;32m    516\u001b[0m     \u001b[38;5;28;01mreturn\u001b[39;00m handle_torch_function(\n\u001b[0;32m    517\u001b[0m         Tensor\u001b[38;5;241m.\u001b[39mbackward,\n\u001b[0;32m    518\u001b[0m         (\u001b[38;5;28mself\u001b[39m,),\n\u001b[1;32m   (...)\u001b[0m\n\u001b[0;32m    523\u001b[0m         inputs\u001b[38;5;241m=\u001b[39minputs,\n\u001b[0;32m    524\u001b[0m     )\n\u001b[1;32m--> 525\u001b[0m torch\u001b[38;5;241m.\u001b[39mautograd\u001b[38;5;241m.\u001b[39mbackward(\n\u001b[0;32m    526\u001b[0m     \u001b[38;5;28mself\u001b[39m, gradient, retain_graph, create_graph, inputs\u001b[38;5;241m=\u001b[39minputs\n\u001b[0;32m    527\u001b[0m )\n",
      "File \u001b[1;32mF:\\Downloads\\Anaconda\\Lib\\site-packages\\torch\\autograd\\__init__.py:267\u001b[0m, in \u001b[0;36mbackward\u001b[1;34m(tensors, grad_tensors, retain_graph, create_graph, grad_variables, inputs)\u001b[0m\n\u001b[0;32m    262\u001b[0m     retain_graph \u001b[38;5;241m=\u001b[39m create_graph\n\u001b[0;32m    264\u001b[0m \u001b[38;5;66;03m# The reason we repeat the same comment below is that\u001b[39;00m\n\u001b[0;32m    265\u001b[0m \u001b[38;5;66;03m# some Python versions print out the first line of a multi-line function\u001b[39;00m\n\u001b[0;32m    266\u001b[0m \u001b[38;5;66;03m# calls in the traceback and some print out the last line\u001b[39;00m\n\u001b[1;32m--> 267\u001b[0m _engine_run_backward(\n\u001b[0;32m    268\u001b[0m     tensors,\n\u001b[0;32m    269\u001b[0m     grad_tensors_,\n\u001b[0;32m    270\u001b[0m     retain_graph,\n\u001b[0;32m    271\u001b[0m     create_graph,\n\u001b[0;32m    272\u001b[0m     inputs,\n\u001b[0;32m    273\u001b[0m     allow_unreachable\u001b[38;5;241m=\u001b[39m\u001b[38;5;28;01mTrue\u001b[39;00m,\n\u001b[0;32m    274\u001b[0m     accumulate_grad\u001b[38;5;241m=\u001b[39m\u001b[38;5;28;01mTrue\u001b[39;00m,\n\u001b[0;32m    275\u001b[0m )\n",
      "File \u001b[1;32mF:\\Downloads\\Anaconda\\Lib\\site-packages\\torch\\autograd\\graph.py:744\u001b[0m, in \u001b[0;36m_engine_run_backward\u001b[1;34m(t_outputs, *args, **kwargs)\u001b[0m\n\u001b[0;32m    742\u001b[0m     unregister_hooks \u001b[38;5;241m=\u001b[39m _register_logging_hooks_on_whole_graph(t_outputs)\n\u001b[0;32m    743\u001b[0m \u001b[38;5;28;01mtry\u001b[39;00m:\n\u001b[1;32m--> 744\u001b[0m     \u001b[38;5;28;01mreturn\u001b[39;00m Variable\u001b[38;5;241m.\u001b[39m_execution_engine\u001b[38;5;241m.\u001b[39mrun_backward(  \u001b[38;5;66;03m# Calls into the C++ engine to run the backward pass\u001b[39;00m\n\u001b[0;32m    745\u001b[0m         t_outputs, \u001b[38;5;241m*\u001b[39margs, \u001b[38;5;241m*\u001b[39m\u001b[38;5;241m*\u001b[39mkwargs\n\u001b[0;32m    746\u001b[0m     )  \u001b[38;5;66;03m# Calls into the C++ engine to run the backward pass\u001b[39;00m\n\u001b[0;32m    747\u001b[0m \u001b[38;5;28;01mfinally\u001b[39;00m:\n\u001b[0;32m    748\u001b[0m     \u001b[38;5;28;01mif\u001b[39;00m attach_logging_hooks:\n",
      "\u001b[1;31mKeyboardInterrupt\u001b[0m: "
     ]
    }
   ],
   "source": [
    "custom_model = train_val(custom_model, train_data_loader, val_data_loader, loss_fn, optimizer, device, num_epochs)"
   ]
  },
  {
   "cell_type": "code",
   "execution_count": null,
   "id": "57af328b-27ba-48c2-bea6-1b56ff586f81",
   "metadata": {},
   "outputs": [],
   "source": [
    "torch.save(custom_model.state_dict(), \"custom_rubert_clf.pth\")"
   ]
  },
  {
   "cell_type": "markdown",
   "id": "0096770d-ea17-4b5b-b6b7-d1f6963b0729",
   "metadata": {},
   "source": [
    "\n",
    "\n",
    "\n",
    "\n",
    "\n",
    "              \n",
    "\n",
    "\n",
    "\n",
    "\n",
    "\n",
    "    "
   ]
  },
  {
   "cell_type": "markdown",
   "id": "fb53ecc3-241f-469f-a26e-c17b725717ba",
   "metadata": {},
   "source": [
    "## 1.4. Тестирование дообученной модели <a id=\"chapter1.4\"></a>"
   ]
  },
  {
   "cell_type": "code",
   "execution_count": null,
   "id": "bc5389c3-a71c-4eb0-ba56-b46daf5f6a48",
   "metadata": {},
   "outputs": [],
   "source": [
    "model = BertForSequenceClassification.from_pretrained(model_name, num_labels=2, output_hidden_states=True).to(device)\n",
    "model.load_state_dict(torch.load(\"custom_rubert_clf.pth\"))"
   ]
  },
  {
   "cell_type": "code",
   "execution_count": null,
   "id": "74cb59cf-cb31-4b0c-a8d1-e80b1282826e",
   "metadata": {},
   "outputs": [],
   "source": [
    "def test_predict(model, test_data_loader):\n",
    "    test_labels = []\n",
    "    test_predictions = [] \n",
    "    \n",
    "    for test_data in tqdm(test_data_loader):\n",
    "        input_ids = test_data['input_ids'].to(device) # токены\n",
    "        attention_mask = test_data['attention_mask'].to(device) # маски\n",
    "        labels = test_data['labels'].to(device) # класс\n",
    "\n",
    "        test_labels += labels.tolist()\n",
    "\n",
    "        outputs = model(input_ids=input_ids, attention_mask=attention_mask) # результат модели\n",
    "        _, preds = torch.max(outputs.logits, dim=1)\n",
    "\n",
    "        test_predictions += preds.tolist()\n",
    "\n",
    "    print(f1_score(test_labels, test_predictions))\n",
    "    \n",
    "    return test_predictions"
   ]
  },
  {
   "cell_type": "code",
   "execution_count": null,
   "id": "e87d52ee-8cf9-452d-8536-bbbdd5710f73",
   "metadata": {},
   "outputs": [],
   "source": [
    "with torch.no_grad():\n",
    "    df_test[\"predictions\"] = test_predict(custom_model, test_data_loader)"
   ]
  },
  {
   "cell_type": "markdown",
   "id": "5ea01665-fccf-44c1-8079-285a3885256d",
   "metadata": {},
   "source": [
    "\n",
    "\n",
    "    "
   ]
  },
  {
   "cell_type": "markdown",
   "id": "ee208afe-f9dc-4eb2-977b-a64e5e735306",
   "metadata": {},
   "source": [
    "\n",
    "\n",
    "\n",
    "\n"
   ]
  },
  {
   "cell_type": "markdown",
   "id": "e1221eb4-cd13-4300-a43f-ea29f8c61248",
   "metadata": {},
   "source": [
    "\n",
    "\n",
    "\n",
    "   \n",
    "\n",
    "\n"
   ]
  },
  {
   "cell_type": "markdown",
   "id": "52257c5b-8af7-4a9f-adf4-977d153bf467",
   "metadata": {},
   "source": [
    "\n",
    "\n",
    "               "
   ]
  },
  {
   "cell_type": "markdown",
   "id": "d75c4632-6a18-4462-8364-34d6fb10dd16",
   "metadata": {},
   "source": [
    "\n",
    "\n",
    "\n",
    "                   "
   ]
  },
  {
   "cell_type": "markdown",
   "id": "b6680c1c-9bb8-4cc6-aaa8-10abebcf8748",
   "metadata": {},
   "source": [
    "<center id=\"chapter2\"><h1 style=\"font-size: 24px\"> 2. Суммаризация текста </h1></center>"
   ]
  },
  {
   "cell_type": "markdown",
   "id": "e0e77ac8-6338-4622-9a19-29396fb8e21f",
   "metadata": {},
   "source": [
    "Наш датасет:"
   ]
  },
  {
   "cell_type": "code",
   "execution_count": null,
   "id": "d705b7a9-96d4-47ad-96cc-88c784427aad",
   "metadata": {},
   "outputs": [],
   "source": [
    "extsum_dataset = pd.read_pickle(\"../Data/ru_test_5k.pkl\")\n",
    "extsum_dataset = pd.DataFrame(extsum_dataset[['ru_src', 'labels']].values, columns=['sentences', 'labels'])\n",
    "# Взял небольшое количество для проверки кода\n",
    "extsum_dataset_sample = extsum_dataset.loc[0:10]\n",
    "extsum_dataset_sample"
   ]
  },
  {
   "cell_type": "markdown",
   "id": "c629cf9a-9a4e-4048-98eb-e93147cd3047",
   "metadata": {},
   "source": [
    "Наша кастомная модель:"
   ]
  },
  {
   "cell_type": "code",
   "execution_count": null,
   "id": "ce609d6c-c3cf-47a0-8853-b252451d841a",
   "metadata": {},
   "outputs": [],
   "source": [
    "custom_model = BertForSequenceClassification.from_pretrained(model_name, num_labels=2, output_hidden_states=True).to(device)\n",
    "custom_model.load_state_dict(torch.load(\"custom_rubert_clf.pth\"))"
   ]
  },
  {
   "cell_type": "markdown",
   "id": "d5771c3c-7280-49ba-9b7d-ae601a3a44bd",
   "metadata": {},
   "source": [
    "## 2.1. Использование библиотеки summarizer <a id=\"chapter2.1\"></a>"
   ]
  },
  {
   "cell_type": "code",
   "execution_count": null,
   "id": "e2e770a5-5d7d-4df5-b62d-9df28377aee5",
   "metadata": {},
   "outputs": [],
   "source": [
    "from summarizer import Summarizer"
   ]
  },
  {
   "cell_type": "code",
   "execution_count": null,
   "id": "e7b8e8cc-43a1-476c-a4c3-2452d27e3f3e",
   "metadata": {},
   "outputs": [],
   "source": [
    "bertsum_custom_model = Summarizer(custom_model=custom_model, custom_tokenizer=tokenizer)"
   ]
  },
  {
   "cell_type": "code",
   "execution_count": null,
   "id": "b3bd6fd6-baf8-47a4-836e-8c677d8d1eae",
   "metadata": {},
   "outputs": [],
   "source": [
    "text = \" \".join(extsum_dataset_sample.loc[0][\"sentences\"])\n",
    "text"
   ]
  },
  {
   "cell_type": "code",
   "execution_count": null,
   "id": "1347fa50-1bc3-4e54-b7e3-c87a0d646342",
   "metadata": {},
   "outputs": [],
   "source": [
    "bertsum_custom_model(text, num_sentences=3)"
   ]
  },
  {
   "cell_type": "markdown",
   "id": "312360f6-0145-4002-bb33-28abe9222e77",
   "metadata": {},
   "source": [
    "## 2.2. Подсчёт всех метрик <a id=\"chapter2.2\"></a>"
   ]
  },
  {
   "cell_type": "markdown",
   "id": "1e66e27c-2fb6-4653-9988-897424eefc2f",
   "metadata": {},
   "source": [
    "Наши предыдущие результаты:"
   ]
  },
  {
   "cell_type": "code",
   "execution_count": null,
   "id": "0960e15c-8ea2-4f94-a59e-fb7f06b1e7cf",
   "metadata": {},
   "outputs": [],
   "source": [
    "final_results = pd.read_csv(\"final_results.csv\", index_col=0)\n",
    "final_results"
   ]
  },
  {
   "cell_type": "markdown",
   "id": "55b01478-24c6-4fb9-999f-e038c72a8761",
   "metadata": {},
   "source": [
    "Наши метрики:"
   ]
  },
  {
   "cell_type": "code",
   "execution_count": null,
   "id": "0786f3c7-4f49-47fd-a7d5-d938cc0d58bc",
   "metadata": {},
   "outputs": [],
   "source": [
    "import evaluate"
   ]
  },
  {
   "cell_type": "code",
   "execution_count": null,
   "id": "75de7e66-449d-4395-aac8-7357e0518c8c",
   "metadata": {},
   "outputs": [],
   "source": [
    "rouge = evaluate.load(\"rouge\")\n",
    "bleu  = evaluate.load(\"bleu\")\n",
    "meteor = evaluate.load('meteor')\n",
    "\n",
    "bertscore  = evaluate.load(\"bertscore\")"
   ]
  },
  {
   "cell_type": "code",
   "execution_count": null,
   "id": "198f4b7c-d28d-478c-8ca4-a99d5d6165ef",
   "metadata": {},
   "outputs": [],
   "source": [
    "def get_metrics(generated_summaries, reference_summaries):\n",
    "    \n",
    "    metrics_dict = rouge.compute(predictions=generated_summaries, references=reference_summaries)\n",
    "    metrics_dict[\"bleu\"] = bleu.compute(predictions=generated_summaries, references=reference_summaries)[\"bleu\"]\n",
    "    metrics_dict[\"meteor\"] = meteor.compute(predictions=generated_summaries, references=reference_summaries)[\"meteor\"]\n",
    "\n",
    "    bertscore_results = bertscore.compute(predictions=generated_summaries, references=reference_summaries, lang='ru')\n",
    "    \n",
    "    bert_dict = {'bert_precision': np.mean(bertscore_results['precision']), \n",
    "                 'bert_recall': np.mean(bertscore_results['recall']),\n",
    "                'bert_f1': np.mean(bertscore_results['f1'])}\n",
    "    \n",
    "    return metrics_dict | bert_dict"
   ]
  },
  {
   "cell_type": "code",
   "execution_count": null,
   "id": "46c1968f-e17c-4d22-8187-825214e2db10",
   "metadata": {},
   "outputs": [],
   "source": [
    "def get_reference_summary(sentences, labels):\n",
    "    \"\"\" \n",
    "    Получение образцовой экстрактивной суммаризации по массиву предложений и по маске входящих в суммаризацию предложений\n",
    "    Параметры:\n",
    "        sentences - массив строк(предложений)\n",
    "        labels - маска предложений, 1 - предложение входит в суммаризацию, 0 - не входит\n",
    "    Возвращает:\n",
    "        строку\n",
    "    \"\"\"\n",
    "    labels = [x==1 for x in labels]\n",
    "    \n",
    "    reference_summary = np.array(sentences)[labels]\n",
    "\n",
    "    return ' '.join(reference_summary)"
   ]
  },
  {
   "cell_type": "code",
   "execution_count": null,
   "id": "b1d799d7-175f-416f-a6c3-5e35e7d65e9a",
   "metadata": {},
   "outputs": [],
   "source": [
    "# В этом датафрейме будет два столбца:\n",
    "# 1. References - эталонные суцммаризации\n",
    "# 2. CustomBertSum - сгенерированные суммаризации \n",
    "df_results = pd.DataFrame()\n",
    "\n",
    "# Заполняем столбец References\n",
    "df_results[\"References\"] = extsum_dataset_sample[['sentences', 'labels']].apply(lambda cols: get_reference_summary(cols['sentences'], cols['labels']) , axis=1)\n",
    "df_results"
   ]
  },
  {
   "cell_type": "code",
   "execution_count": null,
   "id": "11f58096-9062-4b9b-859d-94493a03c38d",
   "metadata": {},
   "outputs": [],
   "source": [
    "# Суммаризируем все тексты\n",
    "df_results['CustomBertSum'] = extsum_dataset_sample[['sentences', 'labels']].apply(lambda cols: bertsum_custom_model(' '.join(cols['sentences']), num_sentences=sum(cols['labels'])),\n",
    "                                                          axis=1)"
   ]
  },
  {
   "cell_type": "code",
   "execution_count": null,
   "id": "19665696-d538-4a0d-ad1b-6b9ca0076098",
   "metadata": {},
   "outputs": [],
   "source": [
    "# Cохраним на всякий полученные суммаризации\n",
    "df_results.to_pickle(\"custom_bert_summarizations.pkl\")"
   ]
  },
  {
   "cell_type": "code",
   "execution_count": null,
   "id": "d0cf6b6c-c1c0-4852-a3c0-24a836d2f931",
   "metadata": {},
   "outputs": [],
   "source": [
    "# Посчитаем все метрики\n",
    "metrics_dict = get_metrics(df_results['CustomBertSum'].values, df_results[\"References\"].values)\n",
    "metrics_dict"
   ]
  },
  {
   "cell_type": "code",
   "execution_count": null,
   "id": "08c203ff-fa04-4468-9556-27bbd698ca06",
   "metadata": {},
   "outputs": [],
   "source": [
    "final_results.loc[\"Custom Bert\"] = metrics_dict\n",
    "final_results"
   ]
  },
  {
   "cell_type": "code",
   "execution_count": null,
   "id": "eac8a251-3432-4681-aac9-06a99a9c3c76",
   "metadata": {},
   "outputs": [],
   "source": []
  },
  {
   "cell_type": "markdown",
   "id": "795268de-37e5-4b0a-82dd-1f6447bfce93",
   "metadata": {},
   "source": [
    "<center id=\"chapter3\"><h1 style=\"font-size: 24px\"> 3. Вывод </h1></center>"
   ]
  },
  {
   "cell_type": "markdown",
   "id": "5f438eaa-f281-42df-9abb-d67f0dc2fe27",
   "metadata": {},
   "source": [
    "Окончательный выбор лучшей модели! Ура!"
   ]
  },
  {
   "cell_type": "code",
   "execution_count": null,
   "id": "a1509691-4c7d-4ac8-a061-0231fde28ec5",
   "metadata": {},
   "outputs": [],
   "source": []
  }
 ],
 "metadata": {
  "kernelspec": {
   "display_name": "Python 3 (ipykernel)",
   "language": "python",
   "name": "python3"
  },
  "language_info": {
   "codemirror_mode": {
    "name": "ipython",
    "version": 3
   },
   "file_extension": ".py",
   "mimetype": "text/x-python",
   "name": "python",
   "nbconvert_exporter": "python",
   "pygments_lexer": "ipython3",
   "version": "3.12.3"
  }
 },
 "nbformat": 4,
 "nbformat_minor": 5
}
